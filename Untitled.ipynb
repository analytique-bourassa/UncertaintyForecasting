{
 "cells": [
  {
   "cell_type": "code",
   "execution_count": 25,
   "metadata": {},
   "outputs": [],
   "source": [
    "import pandas as pd\n",
    "\n",
    "import seaborn as sns\n",
    "import matplotlib.pyplot as plt\n"
   ]
  },
  {
   "cell_type": "code",
   "execution_count": 7,
   "metadata": {},
   "outputs": [],
   "source": [
    "results = pd.read_csv(\"/home/louis/Documents/ConsultationSimpliphAI/AnalytiqueBourassaGit/UncertaintyForecasting/models/LSTM_BayesRegressor/results_smoke_test.csv\")"
   ]
  },
  {
   "cell_type": "code",
   "execution_count": 8,
   "metadata": {},
   "outputs": [
    {
     "data": {
      "text/plain": [
       "Index(['Unnamed: 0', 'Confidence_interval_deviance_score',\n",
       "       'one_sided_deviance_score', 'marginal_deviance_score',\n",
       "       'correlation_score', 'methods'],\n",
       "      dtype='object')"
      ]
     },
     "execution_count": 8,
     "metadata": {},
     "output_type": "execute_result"
    }
   ],
   "source": [
    "results.columns\n"
   ]
  },
  {
   "cell_type": "code",
   "execution_count": 15,
   "metadata": {},
   "outputs": [
    {
     "data": {
      "text/html": [
       "<div>\n",
       "<style scoped>\n",
       "    .dataframe tbody tr th:only-of-type {\n",
       "        vertical-align: middle;\n",
       "    }\n",
       "\n",
       "    .dataframe tbody tr th {\n",
       "        vertical-align: top;\n",
       "    }\n",
       "\n",
       "    .dataframe thead th {\n",
       "        text-align: right;\n",
       "    }\n",
       "</style>\n",
       "<table border=\"1\" class=\"dataframe\">\n",
       "  <thead>\n",
       "    <tr style=\"text-align: right;\">\n",
       "      <th></th>\n",
       "      <th>Unnamed: 0</th>\n",
       "      <th>Confidence_interval_deviance_score</th>\n",
       "      <th>one_sided_deviance_score</th>\n",
       "      <th>marginal_deviance_score</th>\n",
       "      <th>correlation_score</th>\n",
       "    </tr>\n",
       "    <tr>\n",
       "      <th>methods</th>\n",
       "      <th></th>\n",
       "      <th></th>\n",
       "      <th></th>\n",
       "      <th></th>\n",
       "      <th></th>\n",
       "    </tr>\n",
       "  </thead>\n",
       "  <tbody>\n",
       "    <tr>\n",
       "      <th>ADVI-Mean-Field</th>\n",
       "      <td>29.5</td>\n",
       "      <td>0.024954</td>\n",
       "      <td>0.015294</td>\n",
       "      <td>0.012813</td>\n",
       "      <td>0.000007</td>\n",
       "    </tr>\n",
       "    <tr>\n",
       "      <th>ADVI-full-rank</th>\n",
       "      <td>49.5</td>\n",
       "      <td>0.010510</td>\n",
       "      <td>0.006498</td>\n",
       "      <td>0.015329</td>\n",
       "      <td>0.000005</td>\n",
       "    </tr>\n",
       "    <tr>\n",
       "      <th>Hybrid</th>\n",
       "      <td>69.5</td>\n",
       "      <td>0.463490</td>\n",
       "      <td>0.239878</td>\n",
       "      <td>0.051034</td>\n",
       "      <td>0.000003</td>\n",
       "    </tr>\n",
       "    <tr>\n",
       "      <th>NUTS</th>\n",
       "      <td>9.5</td>\n",
       "      <td>0.008430</td>\n",
       "      <td>0.005924</td>\n",
       "      <td>0.012680</td>\n",
       "      <td>0.000005</td>\n",
       "    </tr>\n",
       "  </tbody>\n",
       "</table>\n",
       "</div>"
      ],
      "text/plain": [
       "                 Unnamed: 0  Confidence_interval_deviance_score  \\\n",
       "methods                                                           \n",
       "ADVI-Mean-Field        29.5                            0.024954   \n",
       "ADVI-full-rank         49.5                            0.010510   \n",
       "Hybrid                 69.5                            0.463490   \n",
       "NUTS                    9.5                            0.008430   \n",
       "\n",
       "                 one_sided_deviance_score  marginal_deviance_score  \\\n",
       "methods                                                              \n",
       "ADVI-Mean-Field                  0.015294                 0.012813   \n",
       "ADVI-full-rank                   0.006498                 0.015329   \n",
       "Hybrid                           0.239878                 0.051034   \n",
       "NUTS                             0.005924                 0.012680   \n",
       "\n",
       "                 correlation_score  \n",
       "methods                             \n",
       "ADVI-Mean-Field           0.000007  \n",
       "ADVI-full-rank            0.000005  \n",
       "Hybrid                    0.000003  \n",
       "NUTS                      0.000005  "
      ]
     },
     "execution_count": 15,
     "metadata": {},
     "output_type": "execute_result"
    }
   ],
   "source": [
    "results.groupby(\"methods\").median()"
   ]
  },
  {
   "cell_type": "code",
   "execution_count": 29,
   "metadata": {},
   "outputs": [],
   "source": [
    "results.head()\n",
    "\n",
    "results_filtered = results[results[\"correlation_score\"] <= 0.00006]"
   ]
  },
  {
   "cell_type": "code",
   "execution_count": 32,
   "metadata": {},
   "outputs": [
    {
     "data": {
      "image/png": "[encoded data removed]",
      "text/plain": [
       "<matplotlib.figure.Figure at 0x7f774958b0f0>"
      ]
     },
     "metadata": {
      "needs_background": "light"
     },
     "output_type": "display_data"
    }
   ],
   "source": [
    "for group, df in results_filtered.groupby(\"methods\"):\n",
    "    \n",
    "    if group != \"Hybrid\":\n",
    "        sns.regplot(x=\"correlation_score\", y=\"Confidence_interval_deviance_score\", label=group,data=df)\n",
    "        plt.legend()"
   ]
  },
  {
   "cell_type": "code",
   "execution_count": null,
   "metadata": {},
   "outputs": [],
   "source": []
  }
 ],
 "metadata": {
  "kernelspec": {
   "display_name": "Python [conda env:env_UncertaintyForecasting]",
   "language": "python",
   "name": "conda-env-env_UncertaintyForecasting-py"
  },
  "language_info": {
   "codemirror_mode": {
    "name": "ipython",
    "version": 3
   },
   "file_extension": ".py",
   "mimetype": "text/x-python",
   "name": "python",
   "nbconvert_exporter": "python",
   "pygments_lexer": "ipython3",
   "version": "3.6.1"
  }
 },
 "nbformat": 4,
 "nbformat_minor": 2
}
