{
 "cells": [
  {
   "cell_type": "code",
   "execution_count": 1,
   "metadata": {},
   "outputs": [],
   "source": [
    "import sys\n",
    "PATH_FOR_PROJECT = \"/home/louis/Dropbox/ConsultationSimpliphAI/AnalytiqueBourassaGit/LSTM_BayesRegressor/\"\n",
    "sys.path.append(PATH_FOR_PROJECT)\n",
    "\n",
    "SMOKE_TEST = True\n",
    "RANDOM_STATE_WITHOUT_TEMPERATURES = 32\n",
    "RANDOM_STATE_WITH_TEMPERATURES = 18"
   ]
  },
  {
   "cell_type": "markdown",
   "metadata": {},
   "source": [
    "# 1. Preparing the data"
   ]
  },
  {
   "cell_type": "code",
   "execution_count": 2,
   "metadata": {},
   "outputs": [],
   "source": [
    "import seaborn as sns"
   ]
  },
  {
   "cell_type": "code",
   "execution_count": 3,
   "metadata": {},
   "outputs": [],
   "source": [
    "iris = sns.load_dataset(\"iris\")\n",
    "\n",
    "x_n = iris.columns[:-1]\n",
    "x_2 = iris[x_n].values\n",
    "\n",
    "X = (x_2 - x_2.mean(axis=0)) / x_2.max(axis=0)\n",
    "\n",
    "data_classes = list(iris['species'].unique())\n",
    "y = iris['species'].apply(data_classes.index)\n",
    "\n",
    "number_of_data = len(y)"
   ]
  },
  {
   "cell_type": "markdown",
   "metadata": {},
   "source": [
    "# 2. Model without temperatures"
   ]
  },
  {
   "cell_type": "code",
   "execution_count": 4,
   "metadata": {},
   "outputs": [],
   "source": [
    "from sklearn.metrics import accuracy_score"
   ]
  },
  {
   "cell_type": "code",
   "execution_count": 5,
   "metadata": {},
   "outputs": [],
   "source": [
    "from uncertainty_forecasting.utils.timers import TimerContext\n",
    "from uncertainty_forecasting.utils.time_profiler_logging import TimeProfilerLogger"
   ]
  },
  {
   "cell_type": "code",
   "execution_count": 6,
   "metadata": {},
   "outputs": [
    {
     "name": "stderr",
     "output_type": "stream",
     "text": [
      "Can not use cuDNN on context None: cannot compile with cuDNN. We got this error:\n",
      "b'/tmp/try_flags_2vqleav_.c:4:10: fatal error: cudnn.h: No such file or directory\\n #include <cudnn.h>\\n          ^~~~~~~~~\\ncompilation terminated.\\n'\n",
      "ERROR (theano.gpuarray): Could not initialize pygpu, support disabled\n",
      "Traceback (most recent call last):\n",
      "  File \"/home/louis/anaconda3/envs/env_UncertaintyForecasting/lib/python3.6/site-packages/theano/gpuarray/__init__.py\", line 227, in <module>\n",
      "    use(config.device)\n",
      "  File \"/home/louis/anaconda3/envs/env_UncertaintyForecasting/lib/python3.6/site-packages/theano/gpuarray/__init__.py\", line 214, in use\n",
      "    init_dev(device, preallocate=preallocate)\n",
      "  File \"/home/louis/anaconda3/envs/env_UncertaintyForecasting/lib/python3.6/site-packages/theano/gpuarray/__init__.py\", line 140, in init_dev\n",
      "    context.free_gmem / MB))\n",
      "RuntimeError: Trying to preallocate 3843 MB of GPU memory while only 2683 MB are available.\n"
     ]
    }
   ],
   "source": [
    "from uncertainty_forecasting.models.classification.classification_bayesian_softmax_temperature import \\\n",
    "    BayesianSoftmaxClassificationWithTemperatures\n",
    "from uncertainty_forecasting.models.classification.classification_bayesian_softmax import BayesianSoftmaxClassification\n",
    "from uncertainty_forecasting.models.calibration.diagnostics import calculate_static_calibration_error"
   ]
  },
  {
   "cell_type": "code",
   "execution_count": 7,
   "metadata": {},
   "outputs": [],
   "source": [
    "from uncertainty_forecasting.data_handling.train_test_split import return_train_test_split_indexes"
   ]
  },
  {
   "cell_type": "code",
   "execution_count": 8,
   "metadata": {},
   "outputs": [],
   "source": [
    "logger_time = TimeProfilerLogger.getInstance()"
   ]
  },
  {
   "cell_type": "code",
   "execution_count": 9,
   "metadata": {},
   "outputs": [
    {
     "name": "stderr",
     "output_type": "stream",
     "text": [
      "Average Loss = 121.08: 100%|██████████| 10/10 [00:00<00:00, 325.36it/s]\n",
      "Finished [100%]: Average Loss = 115.53\n",
      "Only 10 samples in chain.\n",
      "Auto-assigning NUTS sampler...\n",
      "Initializing NUTS using jitter+adapt_diag...\n",
      "Multiprocess sampling (4 chains in 4 jobs)\n",
      "NUTS: [thetas, theta_0]\n",
      "Sampling 4 chains: 100%|██████████| 80/80 [00:00<00:00, 758.43draws/s]\n",
      "/home/louis/anaconda3/envs/env_UncertaintyForecasting/lib/python3.6/site-packages/pymc3/sampling.py:466: UserWarning: The number of samples is too small to check convergence reliably.\n",
      "  warnings.warn(\"The number of samples is too small to check convergence reliably.\")\n",
      "100%|██████████| 1000/1000 [00:13<00:00, 74.47it/s]"
     ]
    },
    {
     "name": "stdout",
     "output_type": "stream",
     "text": [
      "Method: without_temperature | Elapsed time: 123.89s\n"
     ]
    },
    {
     "name": "stderr",
     "output_type": "stream",
     "text": [
      "\n"
     ]
    }
   ],
   "source": [
    "with TimerContext(name=\"without_temperature\",\n",
    "                  show_time_when_exit=True,\n",
    "                  logger=logger_time) as timer:\n",
    "\n",
    "    train_indexes, test_indexes = return_train_test_split_indexes(number_of_data,\n",
    "                                                                  test_size=0.3,\n",
    "                                                                  random_state=RANDOM_STATE_WITHOUT_TEMPERATURES)\n",
    "\n",
    "    X_train, X_test, y_train, y_test = X[train_indexes], X[test_indexes], \\\n",
    "                                       y.values[train_indexes], y.values[test_indexes]\n",
    "\n",
    "    model_without = BayesianSoftmaxClassification(number_of_classes=3,\n",
    "                                                  number_of_features=4,\n",
    "                                                  X_train=X_train,\n",
    "                                                  y_train=y_train)\n",
    "\n",
    "    model_without.params.number_of_tuning_steps = 5000 if not SMOKE_TEST else 10\n",
    "    model_without.params.number_of_samples_for_posterior = int(1e5) if not SMOKE_TEST else 10\n",
    "    model_without.params.number_of_iterations = int(1e6) if not SMOKE_TEST else 10\n",
    "\n",
    "    model_without.sample()\n",
    "    #model_without.show_trace()\n",
    "\n",
    "    predictions = model_without.make_predictions(X_test, y_test)\n",
    "\n",
    "    y_test_predictions, confidences = predictions.predictions_with_confidence\n",
    "\n",
    "    accuracy_without_temperatures = 100.0 * accuracy_score(y_test, predictions.predictions)\n",
    "\n",
    "    curves_without_temperatures, means_per_bin_without_temperatures, deviation_score_without_temperatures = calculate_static_calibration_error(y_test_predictions,\n",
    "                                                                                                y_test,\n",
    "                                                                                                confidences,\n",
    "                                                                                                predictions.number_of_classes)\n"
   ]
  },
  {
   "cell_type": "markdown",
   "metadata": {},
   "source": [
    "# 3. Model with temperatures"
   ]
  },
  {
   "cell_type": "code",
   "execution_count": 10,
   "metadata": {},
   "outputs": [
    {
     "name": "stderr",
     "output_type": "stream",
     "text": [
      "Average Loss = 156.09: 100%|██████████| 10/10 [00:00<00:00, 1990.27it/s]\n",
      "Finished [100%]: Average Loss = 135.33\n",
      "Only 10 samples in chain.\n",
      "Auto-assigning NUTS sampler...\n",
      "Initializing NUTS using jitter+adapt_diag...\n",
      "Multiprocess sampling (4 chains in 4 jobs)\n",
      "NUTS: [temperatures, thetas, theta_0]\n",
      "Sampling 4 chains: 100%|██████████| 80/80 [00:00<00:00, 223.00draws/s]\n",
      "/home/louis/anaconda3/envs/env_UncertaintyForecasting/lib/python3.6/site-packages/pymc3/sampling.py:466: UserWarning: The number of samples is too small to check convergence reliably.\n",
      "  warnings.warn(\"The number of samples is too small to check convergence reliably.\")\n",
      "There was 1 divergence after tuning. Increase `target_accept` or reparameterize.\n",
      "The acceptance probability does not match the target. It is 0.323036113808, but should be close to 0.8. Try to increase the number of tuning steps.\n",
      "  0%|          | 0/1000 [00:00<?, ?it/s]"
     ]
    },
    {
     "name": "stdout",
     "output_type": "stream",
     "text": [
      "Method: sampling | Elapsed time: 9.95s\n",
      "{'without_temperature': 123.88701677322388, 'sampling': 9.947745561599731}\n"
     ]
    },
    {
     "name": "stderr",
     "output_type": "stream",
     "text": [
      "100%|██████████| 1000/1000 [00:13<00:00, 73.21it/s]\n"
     ]
    },
    {
     "name": "stdout",
     "output_type": "stream",
     "text": [
      "Method: with_temperature | Elapsed time: 27.22s\n"
     ]
    }
   ],
   "source": [
    "with TimerContext(name=\"with_temperature\", show_time_when_exit=True) as timer:\n",
    "\n",
    "    train_indexes, test_indexes = return_train_test_split_indexes(number_of_data,\n",
    "                                                                  test_size=0.3,\n",
    "                                                                  random_state=RANDOM_STATE_WITH_TEMPERATURES)\n",
    "\n",
    "    X_train, X_test, y_train, y_test = X[train_indexes], X[test_indexes], \\\n",
    "                                       y.values[train_indexes], y.values[test_indexes]\n",
    "\n",
    "    model_with = BayesianSoftmaxClassificationWithTemperatures(number_of_classes=3,\n",
    "                                                               number_of_features=4,\n",
    "                                                               X_train=X_train,\n",
    "                                                               y_train=y_train)\n",
    "\n",
    "    model_with.params.number_of_tuning_steps = 5000 if not SMOKE_TEST else 10\n",
    "    model_with.params.number_of_samples_for_posterior = int(1e5) if not SMOKE_TEST else 10\n",
    "    model_with.params.number_of_iterations = int(1e6) if not SMOKE_TEST else 10\n",
    "\n",
    "    model_with.sample()\n",
    "    #model_with.show_trace()\n",
    "\n",
    "    print(logger_time.times)\n",
    "\n",
    "    predictions = model_with.make_predictions(X_test, y_test)\n",
    "\n",
    "    y_test_predictions, confidences = predictions.predictions_with_confidence\n",
    "\n",
    "    accuracy_with_temperatures = 100.0 * accuracy_score(y_test, predictions.predictions)\n",
    "\n",
    "    curves_with_temperatures, means_per_bin_with_temperatures, deviation_score_with_temperatures = calculate_static_calibration_error(y_test_predictions,\n",
    "                                                                                          y_test,\n",
    "                                                                                          confidences,\n",
    "                                                                                          predictions.number_of_classes)\n"
   ]
  },
  {
   "cell_type": "markdown",
   "metadata": {},
   "source": [
    "# 4. Analysis of the results"
   ]
  },
  {
   "cell_type": "code",
   "execution_count": 11,
   "metadata": {},
   "outputs": [],
   "source": [
    "import pymc3 as pm\n",
    "import numpy as np"
   ]
  },
  {
   "cell_type": "code",
   "execution_count": 12,
   "metadata": {},
   "outputs": [],
   "source": [
    "from uncertainty_forecasting.visualisations.visualisations import Visualisator"
   ]
  },
  {
   "cell_type": "code",
   "execution_count": 13,
   "metadata": {},
   "outputs": [
    {
     "name": "stderr",
     "output_type": "stream",
     "text": [
      "/home/louis/anaconda3/envs/env_UncertaintyForecasting/lib/python3.6/site-packages/pymc3/stats.py:218: UserWarning: For one or more samples the posterior variance of the\n",
      "        log predictive densities exceeds 0.4. This could be indication of\n",
      "        WAIC starting to fail see http://arxiv.org/abs/1507.04544 for details\n",
      "        \n",
      "  \"\"\")\n"
     ]
    },
    {
     "name": "stdout",
     "output_type": "stream",
     "text": [
      "                         WAIC   pWAIC    dWAIC weight      SE    dSE var_warn\n",
      "without temperatures   152.79    3.21        0   0.83   13.85      0        0\n",
      "with temperatures     2046.15  799.08  1893.36   0.17  291.66  292.9        1\n"
     ]
    },
    {
     "data": {
      "image/png": "[encoded data removed]",
      "text/plain": [
       "<matplotlib.figure.Figure at 0x7f540c668898>"
      ]
     },
     "metadata": {
      "needs_background": "light"
     },
     "output_type": "display_data"
    }
   ],
   "source": [
    "model_with.model.name = 'with temperatures'\n",
    "model_without.model.name = 'without temperatures'\n",
    "\n",
    "df_compare_WAIC = pm.compare({model_with.model: model_with.trace,\n",
    "                           model_without.model: model_without.trace})\n",
    "\n",
    "print(df_compare_WAIC)\n",
    "\n",
    "\n",
    "Visualisator.show_calibration_curves(means_per_bin_with_temperatures,\n",
    "                                     np.array([curves_with_temperatures,\n",
    "                                      curves_without_temperatures]),\n",
    "                                     [\"with temperatures\", \"without temperatures\"],\n",
    "                                     title_suffix=\"(SCE)\"\n",
    "                                     )"
   ]
  },
  {
   "cell_type": "code",
   "execution_count": 14,
   "metadata": {},
   "outputs": [
    {
     "name": "stdout",
     "output_type": "stream",
     "text": [
      "acc without: 93.33333333333333\n",
      "acc with: 86.66666666666667\n",
      "dev without: 0.07268518518518519\n",
      "dev with: 0.038425925925925926\n"
     ]
    }
   ],
   "source": [
    "print(\"acc without: {}\".format(accuracy_without_temperatures))\n",
    "print(\"acc with: {}\".format(accuracy_with_temperatures))\n",
    "print(\"dev without: {}\".format(deviation_score_without_temperatures))\n",
    "print(\"dev with: {}\".format(deviation_score_with_temperatures))"
   ]
  }
 ],
 "metadata": {
  "kernelspec": {
   "display_name": "Python [conda env:env_UncertaintyForecasting]",
   "language": "python",
   "name": "conda-env-env_UncertaintyForecasting-py"
  },
  "language_info": {
   "codemirror_mode": {
    "name": "ipython",
    "version": 3
   },
   "file_extension": ".py",
   "mimetype": "text/x-python",
   "name": "python",
   "nbconvert_exporter": "python",
   "pygments_lexer": "ipython3",
   "version": "3.6.2"
  }
 },
 "nbformat": 4,
 "nbformat_minor": 2
}
