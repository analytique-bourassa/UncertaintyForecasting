{
 "cells": [
  {
   "cell_type": "code",
   "execution_count": 1,
   "metadata": {},
   "outputs": [],
   "source": [
    "import sys\n",
    "PATH_FOR_PROJECT = \"/home/louis/Dropbox/ConsultationSimpliphAI/\" \\\n",
    "           \"AnalytiqueBourassaGit/UncertaintyForecasting/\"\n",
    "sys.path.append(PATH_FOR_PROJECT)\n",
    "\n",
    "SMOKE_TEST = True\n",
    "RANDOM_STATE_WITHOUT_TEMPERATURES = 32\n",
    "RANDOM_STATE_WITH_TEMPERATURES = 18"
   ]
  },
  {
   "cell_type": "markdown",
   "metadata": {},
   "source": [
    "# 1. Preparing the data"
   ]
  },
  {
   "cell_type": "code",
   "execution_count": 2,
   "metadata": {},
   "outputs": [],
   "source": [
    "import seaborn as sns"
   ]
  },
  {
   "cell_type": "code",
   "execution_count": 3,
   "metadata": {},
   "outputs": [],
   "source": [
    "iris = sns.load_dataset(\"iris\")\n",
    "\n",
    "x_n = iris.columns[:-1]\n",
    "x_2 = iris[x_n].values\n",
    "\n",
    "X = (x_2 - x_2.mean(axis=0)) / x_2.max(axis=0)\n",
    "\n",
    "data_classes = list(iris['species'].unique())\n",
    "y = iris['species'].apply(data_classes.index)\n",
    "\n",
    "number_of_data = len(y)"
   ]
  },
  {
   "cell_type": "markdown",
   "metadata": {},
   "source": [
    "# 2. Model without temperatures"
   ]
  },
  {
   "cell_type": "code",
   "execution_count": 4,
   "metadata": {},
   "outputs": [],
   "source": [
    "from sklearn.metrics import accuracy_score"
   ]
  },
  {
   "cell_type": "code",
   "execution_count": 5,
   "metadata": {},
   "outputs": [],
   "source": [
    "from utils.timers import TimerContext\n",
    "from utils.time_profiler_logging import TimeProfilerLogger"
   ]
  },
  {
   "cell_type": "code",
   "execution_count": 6,
   "metadata": {},
   "outputs": [],
   "source": [
    "from models.classification.classification_bayesian_softmax_temperature import \\\n",
    "    BayesianSoftmaxClassificationWithTemperatures\n",
    "from models.classification.classification_bayesian_softmax import BayesianSoftmaxClassification\n",
    "from models.calibration.diagnostics import calculate_static_calibration_error"
   ]
  },
  {
   "cell_type": "code",
   "execution_count": 7,
   "metadata": {},
   "outputs": [],
   "source": [
    "from data_handling.train_test_split import return_train_test_split_indexes"
   ]
  },
  {
   "cell_type": "code",
   "execution_count": 8,
   "metadata": {},
   "outputs": [],
   "source": [
    "logger_time = TimeProfilerLogger.getInstance()"
   ]
  },
  {
   "cell_type": "code",
   "execution_count": 9,
   "metadata": {},
   "outputs": [
    {
     "name": "stderr",
     "output_type": "stream",
     "text": [
      "Average Loss = 121.08: 100%|██████████| 10/10 [00:00<00:00, 364.24it/s]\n",
      "Finished [100%]: Average Loss = 115.53\n",
      "Only 10 samples in chain.\n",
      "Auto-assigning NUTS sampler...\n",
      "Initializing NUTS using jitter+adapt_diag...\n",
      "Multiprocess sampling (4 chains in 4 jobs)\n",
      "NUTS: [thetas, theta_0]\n",
      "Sampling 4 chains: 100%|██████████| 80/80 [00:00<00:00, 780.78draws/s]\n",
      "/home/louis/anaconda3/envs/env_UncertaintyForecasting/lib/python3.6/site-packages/pymc3/sampling.py:466: UserWarning: The number of samples is too small to check convergence reliably.\n",
      "  warnings.warn(\"The number of samples is too small to check convergence reliably.\")\n",
      "100%|██████████| 1000/1000 [00:13<00:00, 75.49it/s]"
     ]
    },
    {
     "name": "stdout",
     "output_type": "stream",
     "text": [
      "Method: without_temperature | Elapsed time: 103.76s\n"
     ]
    },
    {
     "name": "stderr",
     "output_type": "stream",
     "text": [
      "\n"
     ]
    }
   ],
   "source": [
    "with TimerContext(name=\"without_temperature\",\n",
    "                  show_time_when_exit=True,\n",
    "                  logger=logger_time) as timer:\n",
    "\n",
    "    train_indexes, test_indexes = return_train_test_split_indexes(number_of_data,\n",
    "                                                                  test_size=0.3,\n",
    "                                                                  random_state=RANDOM_STATE_WITHOUT_TEMPERATURES)\n",
    "\n",
    "    X_train, X_test, y_train, y_test = X[train_indexes], X[test_indexes], \\\n",
    "                                       y.values[train_indexes], y.values[test_indexes]\n",
    "\n",
    "    model_without = BayesianSoftmaxClassification(number_of_classes=3,\n",
    "                                                  number_of_features=4,\n",
    "                                                  X_train=X_train,\n",
    "                                                  y_train=y_train)\n",
    "\n",
    "    model_without.params.number_of_tuning_steps = 5000 if not SMOKE_TEST else 10\n",
    "    model_without.params.number_of_samples_for_posterior = int(1e5) if not SMOKE_TEST else 10\n",
    "    model_without.params.number_of_iterations = int(1e6) if not SMOKE_TEST else 10\n",
    "\n",
    "    model_without.sample()\n",
    "    #model_without.show_trace()\n",
    "\n",
    "    predictions = model_without.make_predictions(X_test, y_test)\n",
    "\n",
    "    y_test_predictions, confidences = predictions.predictions_with_confidence\n",
    "\n",
    "    accuracy_without_temperatures = 100.0 * accuracy_score(y_test, predictions.predictions)\n",
    "\n",
    "    curves_without_temperatures, means_per_bin_without_temperatures, deviation_score_without_temperatures = calculate_static_calibration_error(y_test_predictions,\n",
    "                                                                                                y_test,\n",
    "                                                                                                confidences,\n",
    "                                                                                                predictions.number_of_classes)\n"
   ]
  },
  {
   "cell_type": "markdown",
   "metadata": {},
   "source": [
    "# 3. Model with temperatures"
   ]
  },
  {
   "cell_type": "code",
   "execution_count": 10,
   "metadata": {},
   "outputs": [
    {
     "name": "stderr",
     "output_type": "stream",
     "text": [
      "Average Loss = 156.09: 100%|██████████| 10/10 [00:00<00:00, 2132.12it/s]\n",
      "Finished [100%]: Average Loss = 135.33\n",
      "Only 10 samples in chain.\n",
      "Auto-assigning NUTS sampler...\n",
      "Initializing NUTS using jitter+adapt_diag...\n",
      "Multiprocess sampling (4 chains in 4 jobs)\n",
      "NUTS: [temperatures, thetas, theta_0]\n",
      "Sampling 4 chains: 100%|██████████| 80/80 [00:00<00:00, 240.91draws/s]\n",
      "/home/louis/anaconda3/envs/env_UncertaintyForecasting/lib/python3.6/site-packages/pymc3/sampling.py:466: UserWarning: The number of samples is too small to check convergence reliably.\n",
      "  warnings.warn(\"The number of samples is too small to check convergence reliably.\")\n",
      "There were 2 divergences after tuning. Increase `target_accept` or reparameterize.\n",
      "The acceptance probability does not match the target. It is 0.369227972782, but should be close to 0.8. Try to increase the number of tuning steps.\n",
      "  0%|          | 0/1000 [00:00<?, ?it/s]"
     ]
    },
    {
     "name": "stdout",
     "output_type": "stream",
     "text": [
      "Method: sampling | Elapsed time: 8.78s\n",
      "{'without_temperature': 103.76214051246643, 'sampling': 8.776987314224243}\n"
     ]
    },
    {
     "name": "stderr",
     "output_type": "stream",
     "text": [
      "100%|██████████| 1000/1000 [00:13<00:00, 72.31it/s]"
     ]
    },
    {
     "name": "stdout",
     "output_type": "stream",
     "text": [
      "Method: with_temperature | Elapsed time: 25.63s\n"
     ]
    },
    {
     "name": "stderr",
     "output_type": "stream",
     "text": [
      "\n"
     ]
    }
   ],
   "source": [
    "with TimerContext(name=\"with_temperature\", show_time_when_exit=True) as timer:\n",
    "\n",
    "    train_indexes, test_indexes = return_train_test_split_indexes(number_of_data,\n",
    "                                                                  test_size=0.3,\n",
    "                                                                  random_state=RANDOM_STATE_WITH_TEMPERATURES)\n",
    "\n",
    "    X_train, X_test, y_train, y_test = X[train_indexes], X[test_indexes], \\\n",
    "                                       y.values[train_indexes], y.values[test_indexes]\n",
    "\n",
    "    model_with = BayesianSoftmaxClassificationWithTemperatures(number_of_classes=3,\n",
    "                                                               number_of_features=4,\n",
    "                                                               X_train=X_train,\n",
    "                                                               y_train=y_train)\n",
    "\n",
    "    model_with.params.number_of_tuning_steps = 5000 if not SMOKE_TEST else 10\n",
    "    model_with.params.number_of_samples_for_posterior = int(1e5) if not SMOKE_TEST else 10\n",
    "    model_with.params.number_of_iterations = int(1e6) if not SMOKE_TEST else 10\n",
    "\n",
    "    model_with.sample()\n",
    "    #model_with.show_trace()\n",
    "\n",
    "    print(logger_time.times)\n",
    "\n",
    "    predictions = model_with.make_predictions(X_test, y_test)\n",
    "\n",
    "    y_test_predictions, confidences = predictions.predictions_with_confidence\n",
    "\n",
    "    accuracy_with_temperatures = 100.0 * accuracy_score(y_test, predictions.predictions)\n",
    "\n",
    "    curves_with_temperatures, means_per_bin_with_temperatures, deviation_score_with_temperatures = calculate_static_calibration_error(y_test_predictions,\n",
    "                                                                                          y_test,\n",
    "                                                                                          confidences,\n",
    "                                                                                          predictions.number_of_classes)\n"
   ]
  },
  {
   "cell_type": "markdown",
   "metadata": {},
   "source": [
    "# 4. Analysis of the results"
   ]
  },
  {
   "cell_type": "code",
   "execution_count": 11,
   "metadata": {},
   "outputs": [],
   "source": [
    "import pymc3 as pm\n",
    "import numpy as np"
   ]
  },
  {
   "cell_type": "code",
   "execution_count": 12,
   "metadata": {},
   "outputs": [],
   "source": [
    "from visualisations.visualisations import Visualisator"
   ]
  },
  {
   "cell_type": "code",
   "execution_count": 13,
   "metadata": {},
   "outputs": [
    {
     "name": "stderr",
     "output_type": "stream",
     "text": [
      "/home/louis/anaconda3/envs/env_UncertaintyForecasting/lib/python3.6/site-packages/pymc3/stats.py:218: UserWarning: For one or more samples the posterior variance of the\n",
      "        log predictive densities exceeds 0.4. This could be indication of\n",
      "        WAIC starting to fail see http://arxiv.org/abs/1507.04544 for details\n",
      "        \n",
      "  \"\"\")\n"
     ]
    },
    {
     "name": "stdout",
     "output_type": "stream",
     "text": [
      "                         WAIC   pWAIC    dWAIC weight      SE     dSE var_warn\n",
      "without temperatures   152.78    3.21        0   0.84   13.84       0        0\n",
      "with temperatures     2075.62  820.03  1922.83   0.16  301.64  302.93        1\n"
     ]
    },
    {
     "data": {
      "image/png": "[encoded data removed]",
      "text/plain": [
       "<matplotlib.figure.Figure at 0x7fde2793bc88>"
      ]
     },
     "metadata": {
      "needs_background": "light"
     },
     "output_type": "display_data"
    }
   ],
   "source": [
    "model_with.model.name = 'with temperatures'\n",
    "model_without.model.name = 'without temperatures'\n",
    "\n",
    "df_compare_WAIC = pm.compare({model_with.model: model_with.trace,\n",
    "                           model_without.model: model_without.trace})\n",
    "\n",
    "print(df_compare_WAIC)\n",
    "\n",
    "\n",
    "Visualisator.show_calibration_curves(means_per_bin_with_temperatures,\n",
    "                                     np.array([curves_with_temperatures,\n",
    "                                      curves_without_temperatures]),\n",
    "                                     [\"with temperatures\", \"without temperatures\"],\n",
    "                                     title_suffix=\"(SCE)\"\n",
    "                                     )"
   ]
  },
  {
   "cell_type": "code",
   "execution_count": 14,
   "metadata": {},
   "outputs": [
    {
     "name": "stdout",
     "output_type": "stream",
     "text": [
      "acc without: 93.33333333333333\n",
      "acc with: 86.66666666666667\n",
      "dev without: 0.07268518518518519\n",
      "dev with: 0.038425925925925926\n"
     ]
    }
   ],
   "source": [
    "print(\"acc without: {}\".format(accuracy_without_temperatures))\n",
    "print(\"acc with: {}\".format(accuracy_with_temperatures))\n",
    "print(\"dev without: {}\".format(deviation_score_without_temperatures))\n",
    "print(\"dev with: {}\".format(deviation_score_with_temperatures))"
   ]
  }
 ],
 "metadata": {
  "kernelspec": {
   "display_name": "Python [conda env:env_UncertaintyForecasting]",
   "language": "python",
   "name": "conda-env-env_UncertaintyForecasting-py"
  },
  "language_info": {
   "codemirror_mode": {
    "name": "ipython",
    "version": 3
   },
   "file_extension": ".py",
   "mimetype": "text/x-python",
   "name": "python",
   "nbconvert_exporter": "python",
   "pygments_lexer": "ipython3",
   "version": "3.6.2"
  }
 },
 "nbformat": 4,
 "nbformat_minor": 2
}
